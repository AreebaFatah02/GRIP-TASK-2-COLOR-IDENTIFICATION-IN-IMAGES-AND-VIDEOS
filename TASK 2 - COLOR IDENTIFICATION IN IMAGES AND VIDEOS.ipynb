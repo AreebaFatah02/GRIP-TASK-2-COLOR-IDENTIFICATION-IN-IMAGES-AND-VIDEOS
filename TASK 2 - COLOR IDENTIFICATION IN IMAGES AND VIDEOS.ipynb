{
 "cells": [
  {
   "cell_type": "markdown",
   "id": "18bce5d5",
   "metadata": {},
   "source": [
    "***\n",
    "***\n",
    "# <div align=\"Left\"><font color='BLUE'><b> The Sparks Foundation</b></font></div>\n",
    "# <div align=\"Left\"><font color='darkred'><b> Batch August 2024</b></font></div>\n",
    "\n",
    "\n",
    "# <div align=\"Left\"><font color='darkred'><b> Name : Areeba Fatah</b></font></div>\n",
    "# <div align=\"Left\"><font color='darkred'><b> Computer Vision and IOT Intern</b></font></div>\n",
    "\n",
    "***\n",
    "# <div align=\"Left\"><font color='darkred'><b> Task 2 Color Identification in Images</b></font></div>\n",
    "***\n",
    "***"
   ]
  },
  {
   "cell_type": "markdown",
   "id": "0518699c",
   "metadata": {},
   "source": [
    "### <div align=\"left\"><font color='darkred'><b>LIBRARIES TO USE </b></font></div>"
   ]
  },
  {
   "cell_type": "code",
   "execution_count": 1,
   "id": "682fd8cc",
   "metadata": {},
   "outputs": [],
   "source": [
    "import cv2\n",
    "import numpy as np\n",
    "import pandas as pd\n",
    "import tkinter as tk\n",
    "from tkinter import filedialog"
   ]
  },
  {
   "cell_type": "markdown",
   "id": "b85988cb",
   "metadata": {},
   "source": [
    "## <div align=\"left\"><font color='darkred'><b>EXPLORATORY DATA ANALYSIS </b></font></div>"
   ]
  },
  {
   "cell_type": "markdown",
   "id": "a6944f37",
   "metadata": {},
   "source": [
    "##### READING ALL POSSIBLE COLORS WITH R,G,B FROM A DATASET AVAILABLE ON KAGGLE"
   ]
  },
  {
   "cell_type": "code",
   "execution_count": 2,
   "id": "04bab4f9",
   "metadata": {},
   "outputs": [
    {
     "name": "stdout",
     "output_type": "stream",
     "text": [
      "['air_force_blue_raf', 'Air Force Blue (Raf)', '#5d8aa8', '93', '138', '168']\n"
     ]
    }
   ],
   "source": [
    "colors_data=pd.read_csv('colors.csv')\n",
    "print(list(colors_data.columns))"
   ]
  },
  {
   "cell_type": "markdown",
   "id": "fe09b0ab",
   "metadata": {},
   "source": [
    " ##### GETTING RID OF UNECESSARY COLUMNS "
   ]
  },
  {
   "cell_type": "code",
   "execution_count": 3,
   "id": "be78b441",
   "metadata": {},
   "outputs": [
    {
     "data": {
      "text/html": [
       "<div>\n",
       "<style scoped>\n",
       "    .dataframe tbody tr th:only-of-type {\n",
       "        vertical-align: middle;\n",
       "    }\n",
       "\n",
       "    .dataframe tbody tr th {\n",
       "        vertical-align: top;\n",
       "    }\n",
       "\n",
       "    .dataframe thead th {\n",
       "        text-align: right;\n",
       "    }\n",
       "</style>\n",
       "<table border=\"1\" class=\"dataframe\">\n",
       "  <thead>\n",
       "    <tr style=\"text-align: right;\">\n",
       "      <th></th>\n",
       "      <th>Color_name</th>\n",
       "      <th>R_value</th>\n",
       "      <th>G_value</th>\n",
       "      <th>B_value</th>\n",
       "    </tr>\n",
       "  </thead>\n",
       "  <tbody>\n",
       "    <tr>\n",
       "      <th>0</th>\n",
       "      <td>Air Force Blue (Usaf)</td>\n",
       "      <td>0</td>\n",
       "      <td>48</td>\n",
       "      <td>143</td>\n",
       "    </tr>\n",
       "    <tr>\n",
       "      <th>1</th>\n",
       "      <td>Air Superiority Blue</td>\n",
       "      <td>114</td>\n",
       "      <td>160</td>\n",
       "      <td>193</td>\n",
       "    </tr>\n",
       "    <tr>\n",
       "      <th>2</th>\n",
       "      <td>Alabama Crimson</td>\n",
       "      <td>163</td>\n",
       "      <td>38</td>\n",
       "      <td>56</td>\n",
       "    </tr>\n",
       "    <tr>\n",
       "      <th>3</th>\n",
       "      <td>Alice Blue</td>\n",
       "      <td>240</td>\n",
       "      <td>248</td>\n",
       "      <td>255</td>\n",
       "    </tr>\n",
       "    <tr>\n",
       "      <th>4</th>\n",
       "      <td>Alizarin Crimson</td>\n",
       "      <td>227</td>\n",
       "      <td>38</td>\n",
       "      <td>54</td>\n",
       "    </tr>\n",
       "  </tbody>\n",
       "</table>\n",
       "</div>"
      ],
      "text/plain": [
       "              Color_name  R_value  G_value  B_value\n",
       "0  Air Force Blue (Usaf)        0       48      143\n",
       "1   Air Superiority Blue      114      160      193\n",
       "2        Alabama Crimson      163       38       56\n",
       "3             Alice Blue      240      248      255\n",
       "4       Alizarin Crimson      227       38       54"
      ]
     },
     "execution_count": 3,
     "metadata": {},
     "output_type": "execute_result"
    }
   ],
   "source": [
    "colors_data=colors_data[[ 'Air Force Blue (Raf)', '93','138','168']]\n",
    "colors_data.columns=['Color_name','R_value','G_value','B_value']\n",
    "colors_data.head()"
   ]
  },
  {
   "cell_type": "markdown",
   "id": "11f7d89b",
   "metadata": {},
   "source": [
    "##### DOING A LITTLE BIT OF EDA ON DATA LIKE CHECKING FOR NULL VALUES ETC."
   ]
  },
  {
   "cell_type": "code",
   "execution_count": 4,
   "id": "11240adc",
   "metadata": {},
   "outputs": [
    {
     "data": {
      "text/plain": [
       "Color_name    0\n",
       "R_value       0\n",
       "G_value       0\n",
       "B_value       0\n",
       "dtype: int64"
      ]
     },
     "execution_count": 4,
     "metadata": {},
     "output_type": "execute_result"
    }
   ],
   "source": [
    "colors_data.isnull().sum()                                          # DATA IS CLEAN MEANING NO NULL VALUES"
   ]
  },
  {
   "cell_type": "code",
   "execution_count": 5,
   "id": "c81229ac",
   "metadata": {},
   "outputs": [
    {
     "data": {
      "text/plain": [
       "864"
      ]
     },
     "execution_count": 5,
     "metadata": {},
     "output_type": "execute_result"
    }
   ],
   "source": [
    "len(list(colors_data.Color_name.unique()))                           # ABOUT 864 UNIQUE COLORS ARE PRESENT IN DATA"
   ]
  },
  {
   "cell_type": "markdown",
   "id": "8956d207",
   "metadata": {},
   "source": [
    "# <div align=\"left\"><font color='darkred'><b>COLOR IDENTIFIER FUNCTIONS:</b></font></div>"
   ]
  },
  {
   "cell_type": "markdown",
   "id": "c5231860",
   "metadata": {},
   "source": [
    "#####  DECLARING VARIABLES FOR USE I.E. R ,G,B AND X AND Y CORDS OF THE IMAGE OR FRAME, THESE WILL BE USED IN THE <br><br> LATER FUNCTIONS FOR  COLOR INDENTIFICATION."
   ]
  },
  {
   "cell_type": "code",
   "execution_count": 6,
   "id": "17671295",
   "metadata": {},
   "outputs": [],
   "source": [
    "R_value=0                                               # DEFINING R,G,B VALUES\n",
    "B_value=0\n",
    "G_value=0\n",
    "X_cord=0\n",
    "Y_cord=0\n",
    "Color_finder_activated=False                            # FOR CHECKING IF USER HAS DOUBLE CLICKED ANYWHERE IN THE PICTURE\n",
    "image=None                                              # IMAGE VARIABLE IS USED TO STORE IMAGES WHILE\n",
    "frame=None                                              # FRAME IS EXCLUSIVE TO VIDEOS"
   ]
  },
  {
   "cell_type": "markdown",
   "id": "42be474e",
   "metadata": {},
   "source": [
    "##### <div align=\"left\"><font color='BLACK'><b>COLOR IDENTIFICATION USING MANHATTAN DISTANCE TO FIND THE COLOR WITH THE CLOSET VALUES.</b></font></div>"
   ]
  },
  {
   "cell_type": "code",
   "execution_count": 7,
   "id": "7fb42fb2",
   "metadata": {},
   "outputs": [],
   "source": [
    "def Color_identifier(R_value,G_value,B_value):\n",
    "    least_value=1000                                    # TAKING A HIGH VALUE AS MIN THEN UPDATING THE MIN VALUE AND COLOR NAME\n",
    "    for i in range(len(colors_data)):\n",
    "        distance=abs(R_value-int(colors_data.loc[i,\"R_value\"]))+abs(G_value-int(colors_data.loc[i,\"G_value\"]))+abs(B_value-int(colors_data.loc[i,\"B_value\"]))\n",
    "        if distance<=least_value:\n",
    "            least_value=distance\n",
    "            color_name=colors_data.loc[i,\"Color_name\"]\n",
    "    return color_name\n",
    "            "
   ]
  },
  {
   "cell_type": "markdown",
   "id": "cbf8d1bf",
   "metadata": {},
   "source": [
    "##### <div align=\"left\"><font color='BLACK'><b>THIS FUNCTION GETS THE POSITION AND RGB VALUES AT THE POSITION OF MOUSE CLICK IN <br><br>AN IMAGE OR FRAME OF A VIDEO. </b></font></div>"
   ]
  },
  {
   "cell_type": "code",
   "execution_count": 8,
   "id": "1ad39ada",
   "metadata": {},
   "outputs": [],
   "source": [
    "def Clicker(incident,x,y,flags,parameters):                         \n",
    "    if incident==cv2.EVENT_LBUTTONDBLCLK:\n",
    "        global R_value,B_value,G_value,X_cord,Y_cord,Color_finder_activated,image,frame  # GETTING GLOBAL VARIABLES\n",
    "        X_cord=x\n",
    "        Y_cord=y\n",
    "        if image is not None:\n",
    "            B_value,G_value,R_value=image[y,x]                                           # FINDING R G B FROM IMAGE\n",
    "        elif frame is not None:\n",
    "            B_value,G_value,R_value=frame[y,x]                                           # FINDING R G B FROM FRAME\n",
    "        R_value,B_value,G_value,Color_finder_activated=int(R_value),int(B_value),int(G_value),True \n",
    "        # MAKING SURE THAT THE VALUES ARE DISCRETE AND CLICK IS TRUE"
   ]
  },
  {
   "cell_type": "markdown",
   "id": "5cf67db2",
   "metadata": {},
   "source": [
    "##### TESTING THE FUNCTION TO SEE IF IT WORKS.  UNCOMMENT THIS AND RENAME THE FILE PATH\n"
   ]
  },
  {
   "cell_type": "code",
   "execution_count": 9,
   "id": "ddea84ed",
   "metadata": {},
   "outputs": [],
   "source": [
    "# image=cv2.imread(\"colorpic.jpg\")         \n",
    "# cv2.namedWindow(\"Color teller app\")\n",
    "# cv2.setMouseCallback(\"Color teller app\",Clicker)\n",
    "# while(True):\n",
    "#     cv2.imshow(\"Color teller app\",image)\n",
    "#     if Color_finder_activated==True:\n",
    "#         cv2.rectangle(image,(100,100),(900,65),(B_value,G_value,R_value),40)\n",
    "#         color_name=Color_identifier(R_value,G_value,B_value)\n",
    "#         if(R_value+G_value+B_value>=600):\n",
    "#             cv2.putText(image,\"Color Indentified As:  \"+color_name,(150,90),4,0.8,(0,0,0),2,cv2.LINE_4)\n",
    "#         else:\n",
    "#             cv2.putText(image,\"Color Indentified As:  \"+color_name,(150,90),4,0.8,(255,255,255),2,cv2.LINE_4)\n",
    "#         Color_finder_activated=False\n",
    "#     if cv2.waitKey(20) & 0xFF == 101:\n",
    "#         break\n",
    "        \n",
    "# cv2.destroyAllWindows()"
   ]
  },
  {
   "cell_type": "markdown",
   "id": "cf11c7f1",
   "metadata": {},
   "source": [
    "# <div align=\"left\"><font color='darkred'><b>TINKTER APP CODE:</b></font></div>"
   ]
  },
  {
   "cell_type": "code",
   "execution_count": 9,
   "id": "50687779",
   "metadata": {},
   "outputs": [],
   "source": [
    "def Image_color_identifier(image_path):                        # GETS IMAGE PATH AND READS IMAGE\n",
    "    global image,Color_finder_activated\n",
    "    image=cv2.imread(image_path)\n",
    "    cv2.namedWindow(\"COLOR IDENTIFIER APP\")                     # CREATING CV2 WINDOW\n",
    "    cv2.setMouseCallback(\"COLOR IDENTIFIER APP\",Clicker)\n",
    "    while(True):\n",
    "        cv2.imshow(\"COLOR IDENTIFIER APP\",image)                # DISPLAY IMAGE\n",
    "        if Color_finder_activated==True:\n",
    "            cv2.rectangle(image,(100,100),(900,65),(B_value,G_value,R_value),40)    # CREATING A BAR TO SHOW THE RESULT\n",
    "            color_name=Color_identifier(R_value,G_value,B_value)                    # GET COLOR NAME\n",
    "            if(R_value+G_value+B_value>=600):                                       # GREATER THAN 600 MEANING LIGHT COLORS\n",
    "                cv2.putText(image,\"Color Indentified As:  \"+color_name,(150,90),4,0.8,(0,0,0),2,cv2.LINE_4)\n",
    "            else:\n",
    "                cv2.putText(image,\"Color Indentified As:  \"+color_name,(150,90),4,0.8,(255,255,255),2,cv2.LINE_4)\n",
    "            Color_finder_activated=False                                            # FOR NEXT CLICK\n",
    "        if cv2.waitKey(20) & 0xFF == 101:                                           # EXIT WITH SMALL 'e'\n",
    "            break\n",
    "    cv2.destroyAllWindows()"
   ]
  },
  {
   "cell_type": "markdown",
   "id": "04451631",
   "metadata": {},
   "source": [
    "##### VIDEO COLOR IDENTIFIER FUNCTION"
   ]
  },
  {
   "cell_type": "code",
   "execution_count": 10,
   "id": "d59cbc21",
   "metadata": {},
   "outputs": [],
   "source": [
    "def Video_color_identifier(video_path):\n",
    "    global frame,Color_finder_activated\n",
    "    capture_frame=cv2.VideoCapture(video_path)\n",
    "    cv2.namedWindow(\"COLOR IDENTIFIER APP\")\n",
    "    cv2.setMouseCallback(\"COLOR IDENTIFIER APP\",Clicker)\n",
    "    while(True):\n",
    "        ret,frame=capture_frame.read()                         # CAPTURING FRAME\n",
    "        if not ret:                                            # INCASE OF END BREAK THE LOOP\n",
    "            break\n",
    "        if Color_finder_activated==True:                       # EVERYTHING SAME AS THE IMAGE CODE BUT WITH ADDITINAL WAIT\n",
    "            cv2.rectangle(frame,(100,100),(900,65),(B_value,G_value,R_value),40)\n",
    "            color_name=Color_identifier(R_value,G_value,B_value)\n",
    "            if(R_value+G_value+B_value>=600):\n",
    "                cv2.putText(frame,\"Color Indentified As:  \"+color_name,(150,90),4,0.8,(0,0,0),2,cv2.LINE_4)\n",
    "            else:\n",
    "                cv2.putText(frame,\"Color Indentified As:  \"+color_name,(150,90),4,0.8,(255,255,255),2,cv2.LINE_4)\n",
    "            Color_finder_activated=False\n",
    "        cv2.imshow(\"COLOR IDENTIFIER APP\",frame)\n",
    "        cv2.waitKey(1000)\n",
    "        if cv2.waitKey(1000) & 0xFF == 101:\n",
    "            break\n",
    "    capture_frame.release()\n",
    "    cv2.destroyAllWindows()"
   ]
  },
  {
   "cell_type": "markdown",
   "id": "91ef410c",
   "metadata": {},
   "source": [
    "##### FUNCTION FOR UPLOADING THE FILES AND CLEARING THE PREVIOUS VALUES"
   ]
  },
  {
   "cell_type": "code",
   "execution_count": 11,
   "id": "f95acce5",
   "metadata": {},
   "outputs": [],
   "source": [
    "def File_Open(choice):        \n",
    "    global image,frame\n",
    "    image=None\n",
    "    frame=None\n",
    "    path=filedialog.askopenfilename()\n",
    "    if choice==\"Image\":\n",
    "        Image_color_identifier(path)\n",
    "        frame=None\n",
    "    elif choice==\"Video\":\n",
    "        Video_color_identifier(path)\n",
    "        image=None\n",
    "        "
   ]
  },
  {
   "cell_type": "markdown",
   "id": "30fd5d37",
   "metadata": {},
   "source": [
    "##### MAIN APP CODE"
   ]
  },
  {
   "cell_type": "code",
   "execution_count": 12,
   "id": "b564d0c1",
   "metadata": {},
   "outputs": [],
   "source": [
    "def APP_Function():\n",
    "    Color_detector=tk.Tk()\n",
    "    Color_detector.title(\"CIS COLOR IDENTIFICATION SYSTEM\")\n",
    "    label=tk.Label(Color_detector,text=\"Choose An Option\",font=(\"Arial\",20))\n",
    "    label.pack(pady=20)\n",
    "    image_button=tk.Button(Color_detector,text=\"Image Color Detector\",width=30,command=lambda: File_Open(\"Image\"))\n",
    "    image_button.pack(pady=10)\n",
    "    video_button=tk.Button(Color_detector,text=\"Video Color Detector\",width=30,command=lambda: File_Open(\"Video\"))\n",
    "    video_button.pack(pady=10)\n",
    "    Color_detector.mainloop()"
   ]
  },
  {
   "cell_type": "code",
   "execution_count": 13,
   "id": "f26bbee9",
   "metadata": {},
   "outputs": [],
   "source": [
    "APP_Function()"
   ]
  },
  {
   "cell_type": "markdown",
   "id": "7ab1cf68",
   "metadata": {},
   "source": [
    "****\n",
    "****"
   ]
  }
 ],
 "metadata": {
  "kernelspec": {
   "display_name": "Python 3 (ipykernel)",
   "language": "python",
   "name": "python3"
  },
  "language_info": {
   "codemirror_mode": {
    "name": "ipython",
    "version": 3
   },
   "file_extension": ".py",
   "mimetype": "text/x-python",
   "name": "python",
   "nbconvert_exporter": "python",
   "pygments_lexer": "ipython3",
   "version": "3.11.5"
  }
 },
 "nbformat": 4,
 "nbformat_minor": 5
}
